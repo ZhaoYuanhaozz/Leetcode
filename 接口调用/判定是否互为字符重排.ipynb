{
 "cells": [
  {
   "cell_type": "markdown",
   "metadata": {},
   "source": [
    "## 判定是否互为字符重排\n",
    "### 題目：\n",
    "给定两个字符串 s1 和 s2，请编写一个程序，确定其中一个字符串的字符重新排列后，能否变成另一个字符串。\n",
    "示例 1：\n",
    "```\n",
    "输入: s1 = \"abc\", s2 = \"bca\"\n",
    "输出: true \n",
    "```\n",
    "\n",
    "### 代码：\n",
    "```\n",
    "class Solution:\n",
    "    def CheckPermutation(self, s1: str, s2: str) -> bool:\n",
    "        return Counter(s1) == Counter(s2)\n",
    "```\n",
    "\n",
    "如果使用Python写的那么是考察Python的接口熟悉程度。"
   ]
  },
  {
   "cell_type": "markdown",
   "metadata": {},
   "source": [
    "Counter可实现字符串计数功能"
   ]
  },
  {
   "cell_type": "code",
   "execution_count": 4,
   "metadata": {},
   "outputs": [
    {
     "name": "stdout",
     "output_type": "stream",
     "text": [
      "Counter({'b': 2, 'a': 1, 'c': 1})\n",
      "Counter({'c': 2, 'a': 1, 'b': 1})\n",
      "Counter({'b': 1})\n",
      "True\n"
     ]
    }
   ],
   "source": [
    "s1 = ['a','b','b','c']\n",
    "s2 = ['a','b','c','c']\n",
    "import collections\n",
    "print(collections.Counter(s1))\n",
    "print(collections.Counter(s2))\n",
    "print(collections.Counter(s1) - collections.Counter(s2))\n",
    "\n",
    "# 两个列表相减\n",
    "if collections.Counter(s1) - collections.Counter(s2) :\n",
    "    print(True)\n"
   ]
  },
  {
   "cell_type": "code",
   "execution_count": 7,
   "metadata": {},
   "outputs": [
    {
     "name": "stdout",
     "output_type": "stream",
     "text": [
      "Counter({'a': 3, 'b': 2, 'c': 1})\n",
      "Counter({'b': 3, 'c': 2, 'a': 1})\n"
     ]
    }
   ],
   "source": [
    "str1 = 'aaabbc'\n",
    "str2 = 'abbbcc'\n",
    "print(collections.Counter(str1))\n",
    "print(collections.Counter(str2))"
   ]
  },
  {
   "cell_type": "code",
   "execution_count": 10,
   "metadata": {},
   "outputs": [
    {
     "name": "stdout",
     "output_type": "stream",
     "text": [
      "a\n",
      "b\n",
      "c\n"
     ]
    }
   ],
   "source": [
    "for items in collections.Counter(str1):\n",
    "    print(items)"
   ]
  },
  {
   "cell_type": "markdown",
   "metadata": {},
   "source": [
    "***字典化***"
   ]
  },
  {
   "cell_type": "code",
   "execution_count": 17,
   "metadata": {},
   "outputs": [
    {
     "name": "stdout",
     "output_type": "stream",
     "text": [
      "{'a': 3, 'b': 2, 'c': 1}\n"
     ]
    }
   ],
   "source": [
    "tmp1 = collections.Counter(str1)\n",
    "tmp = dict(tmp1)\n",
    "print(tmp)"
   ]
  },
  {
   "cell_type": "markdown",
   "metadata": {},
   "source": [
    "调用字典里的元素 **tmp.items()**"
   ]
  },
  {
   "cell_type": "code",
   "execution_count": 18,
   "metadata": {},
   "outputs": [
    {
     "name": "stdout",
     "output_type": "stream",
     "text": [
      "('a', 3)\n",
      "('b', 2)\n",
      "('c', 1)\n"
     ]
    }
   ],
   "source": [
    "for item in tmp.items():\n",
    "    print(item)"
   ]
  },
  {
   "cell_type": "markdown",
   "metadata": {},
   "source": [
    "调用Counter中的keys：**tmp.keys()**\n",
    "\n",
    "调用Counter中的values: **tmp.values()**"
   ]
  },
  {
   "cell_type": "code",
   "execution_count": 21,
   "metadata": {},
   "outputs": [
    {
     "name": "stdout",
     "output_type": "stream",
     "text": [
      "a\n",
      "b\n",
      "c\n"
     ]
    }
   ],
   "source": [
    "for items in tmp1.keys():\n",
    "    print(items)"
   ]
  },
  {
   "cell_type": "code",
   "execution_count": 25,
   "metadata": {},
   "outputs": [
    {
     "name": "stdout",
     "output_type": "stream",
     "text": [
      "6\n",
      "5\n",
      "4\n"
     ]
    }
   ],
   "source": [
    "#更新values\n",
    "for items in tmp1.keys():\n",
    "    tmp1[items] += 1\n",
    "tmp1\n",
    "\n",
    "for values in tmp1.values():\n",
    "    print(values)"
   ]
  },
  {
   "cell_type": "markdown",
   "metadata": {},
   "source": [
    "## 字典用法"
   ]
  },
  {
   "cell_type": "code",
   "execution_count": 26,
   "metadata": {},
   "outputs": [
    {
     "data": {
      "text/plain": [
       "{'a': 3, 'b': 4}"
      ]
     },
     "execution_count": 26,
     "metadata": {},
     "output_type": "execute_result"
    }
   ],
   "source": [
    "#创建一个字典\n",
    "dic = {}\n",
    "#填充字典\n",
    "dic['a'] = 3\n",
    "dic['b'] = 4\n",
    "dic"
   ]
  },
  {
   "cell_type": "code",
   "execution_count": 28,
   "metadata": {},
   "outputs": [
    {
     "name": "stdout",
     "output_type": "stream",
     "text": [
      "('a', 3)\n",
      "('b', 4)\n"
     ]
    }
   ],
   "source": [
    "# 访问字典元素\n",
    "for items in dic.items():\n",
    "    print(items)"
   ]
  },
  {
   "cell_type": "code",
   "execution_count": 32,
   "metadata": {},
   "outputs": [
    {
     "name": "stdout",
     "output_type": "stream",
     "text": [
      "a\n",
      "b\n"
     ]
    },
    {
     "data": {
      "text/plain": [
       "{'a': 6, 'b': 7}"
      ]
     },
     "execution_count": 32,
     "metadata": {},
     "output_type": "execute_result"
    }
   ],
   "source": [
    "#访问字典的键，并且更新对应的值\n",
    "for keys in dic.keys():\n",
    "    print(keys)\n",
    "    dic[keys] += 1\n",
    "dic"
   ]
  },
  {
   "cell_type": "code",
   "execution_count": 33,
   "metadata": {},
   "outputs": [
    {
     "name": "stdout",
     "output_type": "stream",
     "text": [
      "6\n",
      "7\n"
     ]
    }
   ],
   "source": [
    "#访问字典的值\n",
    "for values in dic.values():\n",
    "    print(values)"
   ]
  },
  {
   "cell_type": "code",
   "execution_count": 35,
   "metadata": {},
   "outputs": [
    {
     "name": "stdout",
     "output_type": "stream",
     "text": [
      "a 6\n",
      "b 7\n"
     ]
    }
   ],
   "source": [
    "同时访问字典的键值对\n",
    "for keys, values in dic.items():\n",
    "    print(items,values)"
   ]
  }
 ],
 "metadata": {
  "kernelspec": {
   "display_name": "Python 3.9.12 ('base')",
   "language": "python",
   "name": "python3"
  },
  "language_info": {
   "codemirror_mode": {
    "name": "ipython",
    "version": 3
   },
   "file_extension": ".py",
   "mimetype": "text/x-python",
   "name": "python",
   "nbconvert_exporter": "python",
   "pygments_lexer": "ipython3",
   "version": "3.9.12"
  },
  "orig_nbformat": 4,
  "vscode": {
   "interpreter": {
    "hash": "88279d2366fe020547cde40dd65aa0e3aa662a6ec1f3ca12d88834876c85e1a6"
   }
  }
 },
 "nbformat": 4,
 "nbformat_minor": 2
}
